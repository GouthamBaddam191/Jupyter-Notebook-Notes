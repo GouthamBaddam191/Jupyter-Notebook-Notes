{
 "cells": [
  {
   "cell_type": "markdown",
   "id": "e6bef3f3-42f1-4435-a8e6-1fa8092b2d17",
   "metadata": {},
   "source": [
    "Data Science Tools and Ecosystem"
   ]
  },
  {
   "cell_type": "markdown",
   "id": "0c9606c0-b01a-4b50-9c1a-63004999bf5f",
   "metadata": {},
   "source": [
    "In this notebook, Data Science Tools and Ecosystem are summarized."
   ]
  },
  {
   "cell_type": "markdown",
   "id": "89e03167-d45b-4e70-a197-0284abea8275",
   "metadata": {},
   "source": [
    "Some of the popular languages that Data Scientists use are:\n",
    "\n",
    "1. Python  \n",
    "2. R  \n",
    "3. SQL  \n",
    "4. Julia  \n",
    "5. Scala"
   ]
  },
  {
   "cell_type": "markdown",
   "id": "bee151db-91aa-4264-be97-093cdee302dd",
   "metadata": {},
   "source": [
    "Some of the commonly used libraries used by Data Scientists include:\n",
    "\n",
    "1. NumPy  \n",
    "2. Pandas  \n",
    "3. Scikit-learn  \n",
    "4. Matplotlib  \n",
    "5. TensorFlow"
   ]
  },
  {
   "cell_type": "markdown",
   "id": "4783cb3b-16de-4947-a9c3-bcedcafdc2f4",
   "metadata": {},
   "source": [
    "| Data Science Tools |\n",
    "|--------------------|\n",
    "| JupyterLab         |\n",
    "| RStudio            |\n",
    "| Apache Zeppelin    |\n"
   ]
  },
  {
   "cell_type": "markdown",
   "id": "e1e3dbca-9abd-4997-9288-369de9e61e76",
   "metadata": {},
   "source": [
    "### Below are a few examples of evaluating arithmetic expressions in Python"
   ]
  },
  {
   "cell_type": "code",
   "execution_count": 3,
   "id": "924293a1-b8c4-4839-a16a-d84514a48133",
   "metadata": {},
   "outputs": [
    {
     "data": {
      "text/plain": [
       "17"
      ]
     },
     "execution_count": 3,
     "metadata": {},
     "output_type": "execute_result"
    }
   ],
   "source": [
    "#This a simple arithmetic expression to mutiply then add integer \n",
    "\n",
    "(3*4)+5"
   ]
  },
  {
   "cell_type": "code",
   "execution_count": 4,
   "id": "75edd180-cfd9-4052-a685-c0e024000d2d",
   "metadata": {},
   "outputs": [
    {
     "data": {
      "text/plain": [
       "3.3333333333333335"
      ]
     },
     "execution_count": 4,
     "metadata": {},
     "output_type": "execute_result"
    }
   ],
   "source": [
    "# This converts 200 minutes to hours by dividing by 60\n",
    "200 / 60\n"
   ]
  },
  {
   "cell_type": "code",
   "execution_count": null,
   "id": "ca5d75cb-1b34-4587-8660-1f4e2e724cb0",
   "metadata": {},
   "outputs": [],
   "source": []
  },
  {
   "cell_type": "markdown",
   "id": "7a1817f9-e117-4c03-91d3-8234dd0abee6",
   "metadata": {},
   "source": [
    "**Objectives:**\n",
    "\n",
    "- List popular languages for Data Science  \n",
    "- Identify commonly used data-science libraries  \n",
    "- Create a table of open-source development environments  \n",
    "- Evaluate simple arithmetic expressions in Python  \n",
    "- Convert minutes to hours using a code cell\n"
   ]
  },
  {
   "cell_type": "markdown",
   "id": "0c67f3f7-fe24-4160-a0b9-8ea21868025b",
   "metadata": {},
   "source": [
    "##AUTHOR\n",
    "\n",
    "Goutham"
   ]
  },
  {
   "cell_type": "code",
   "execution_count": null,
   "id": "d91baee9-8897-47e1-a803-d98068c34288",
   "metadata": {},
   "outputs": [],
   "source": []
  }
 ],
 "metadata": {
  "kernelspec": {
   "display_name": "Python [conda env:practie]",
   "language": "python",
   "name": "conda-env-practie-py"
  },
  "language_info": {
   "codemirror_mode": {
    "name": "ipython",
    "version": 3
   },
   "file_extension": ".py",
   "mimetype": "text/x-python",
   "name": "python",
   "nbconvert_exporter": "python",
   "pygments_lexer": "ipython3",
   "version": "3.12.9"
  }
 },
 "nbformat": 4,
 "nbformat_minor": 5
}
