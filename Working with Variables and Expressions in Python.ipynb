{
 "cells": [
  {
   "cell_type": "code",
   "execution_count": 1,
   "id": "cf21fadc-e790-4ac9-a2de-c3f8f119c56a",
   "metadata": {},
   "outputs": [
    {
     "data": {
      "text/plain": [
       "160"
      ]
     },
     "execution_count": 1,
     "metadata": {},
     "output_type": "execute_result"
    }
   ],
   "source": [
    "43 + 60 + 16 + 41"
   ]
  },
  {
   "cell_type": "code",
   "execution_count": 2,
   "id": "1541a199-909a-4644-ad79-0171687658e1",
   "metadata": {},
   "outputs": [
    {
     "data": {
      "text/plain": [
       "-17"
      ]
     },
     "execution_count": 2,
     "metadata": {},
     "output_type": "execute_result"
    }
   ],
   "source": [
    "43-60"
   ]
  },
  {
   "cell_type": "code",
   "execution_count": 3,
   "id": "b5a1d153-8d84-4e9a-a3b8-88ce5bbff2b4",
   "metadata": {},
   "outputs": [
    {
     "data": {
      "text/plain": [
       "0.7166666666666667"
      ]
     },
     "execution_count": 3,
     "metadata": {},
     "output_type": "execute_result"
    }
   ],
   "source": [
    "43/60"
   ]
  },
  {
   "cell_type": "markdown",
   "id": "d6da5c91-916c-4a7b-9c25-9561d0cdd7db",
   "metadata": {},
   "source": [
    "we can use the double slash for integer division, where the result is rounded down to the nearest integer:"
   ]
  },
  {
   "cell_type": "code",
   "execution_count": 4,
   "id": "331a9ef7-012d-4eac-88cc-0d47e34c9ffb",
   "metadata": {},
   "outputs": [
    {
     "data": {
      "text/plain": [
       "0"
      ]
     },
     "execution_count": 4,
     "metadata": {},
     "output_type": "execute_result"
    }
   ],
   "source": [
    "43//60"
   ]
  },
  {
   "cell_type": "code",
   "execution_count": 5,
   "id": "995de406-74e9-4013-843f-1c9d46c112ed",
   "metadata": {},
   "outputs": [
    {
     "data": {
      "text/plain": [
       "2580"
      ]
     },
     "execution_count": 5,
     "metadata": {},
     "output_type": "execute_result"
    }
   ],
   "source": [
    "43*60"
   ]
  },
  {
   "cell_type": "markdown",
   "id": "88d0cca3-124b-4c8a-8365-efa25138bbb8",
   "metadata": {},
   "source": [
    "Let's write an expression that calculates how many hours there are in 160 minutes:"
   ]
  },
  {
   "cell_type": "code",
   "execution_count": 6,
   "id": "936f7d3d-2b13-4d5a-ac7c-3d953640d72c",
   "metadata": {},
   "outputs": [
    {
     "data": {
      "text/plain": [
       "2"
      ]
     },
     "execution_count": 6,
     "metadata": {},
     "output_type": "execute_result"
    }
   ],
   "source": [
    "160//60 "
   ]
  },
  {
   "cell_type": "markdown",
   "id": "16f5c60f-a07f-48a7-96b3-c20877702ebc",
   "metadata": {},
   "source": [
    "Python follows well accepted mathematical conventions when evaluating mathematical expressions. In the following example, Python adds 30 to the result of the multiplication (i.e., 120)."
   ]
  },
  {
   "cell_type": "code",
   "execution_count": 7,
   "id": "931a02d0-6719-470e-91fe-5441581464f3",
   "metadata": {},
   "outputs": [
    {
     "data": {
      "text/plain": [
       "150"
      ]
     },
     "execution_count": 7,
     "metadata": {},
     "output_type": "execute_result"
    }
   ],
   "source": [
    "30 + 2 * 60"
   ]
  },
  {
   "cell_type": "markdown",
   "id": "d7a0e8d1-30b3-4343-a281-fd6c410cc6a5",
   "metadata": {},
   "source": [
    "And just like mathematics, expressions enclosed in parentheses have priority. So the following multiplies 32 by 60."
   ]
  },
  {
   "cell_type": "code",
   "execution_count": 11,
   "id": "905a1906-a7df-4f92-bcc5-1bc036c422a2",
   "metadata": {},
   "outputs": [
    {
     "data": {
      "text/plain": [
       "1920"
      ]
     },
     "execution_count": 11,
     "metadata": {},
     "output_type": "execute_result"
    }
   ],
   "source": [
    "(30 + 2) * 60"
   ]
  },
  {
   "cell_type": "markdown",
   "id": "24f54ac9-903b-439c-a24b-711a340fd677",
   "metadata": {},
   "source": [
    "## Variables\n",
    "Just like with most programming languages, we can store values in variables, so we can use them later on. For example:"
   ]
  },
  {
   "cell_type": "code",
   "execution_count": 12,
   "id": "f4641a51-234c-44c4-9ddb-fa08e027d937",
   "metadata": {},
   "outputs": [
    {
     "data": {
      "text/plain": [
       "160"
      ]
     },
     "execution_count": 12,
     "metadata": {},
     "output_type": "execute_result"
    }
   ],
   "source": [
    "x = 43 + 60 + 16 + 41\n",
    "x"
   ]
  },
  {
   "cell_type": "code",
   "execution_count": 13,
   "id": "ef141700-27f8-4eaa-bfdd-f2925f6274b4",
   "metadata": {},
   "outputs": [
    {
     "data": {
      "text/plain": [
       "2.6666666666666665"
      ]
     },
     "execution_count": 13,
     "metadata": {},
     "output_type": "execute_result"
    }
   ],
   "source": [
    "y = x / 60\n",
    "y"
   ]
  },
  {
   "cell_type": "code",
   "execution_count": 14,
   "id": "6d7b501b-c30e-4240-98c9-cb7c29b6207d",
   "metadata": {},
   "outputs": [
    {
     "data": {
      "text/plain": [
       "2.6666666666666665"
      ]
     },
     "execution_count": 14,
     "metadata": {},
     "output_type": "execute_result"
    }
   ],
   "source": [
    "# Overwrite variable with new value\n",
    "\n",
    "x = x / 60\n",
    "x"
   ]
  },
  {
   "cell_type": "markdown",
   "id": "81df434c-b3ba-4adc-a064-91b4d80dfcf9",
   "metadata": {},
   "source": [
    "# Name the variables meaningfully\n",
    " \n",
    " "
   ]
  },
  {
   "cell_type": "markdown",
   "id": "a0e9a3d0-00f2-454f-a0fd-74d102323efa",
   "metadata": {},
   "source": [
    "\n"
   ]
  },
  {
   "cell_type": "code",
   "execution_count": 27,
   "id": "ab6c6d41-cc15-4395-8d4a-41d6602d08e1",
   "metadata": {},
   "outputs": [
    {
     "data": {
      "text/plain": [
       "142"
      ]
     },
     "execution_count": 27,
     "metadata": {},
     "output_type": "execute_result"
    }
   ],
   "source": [
    "\n",
    "\n",
    "total_min = 43 + 42 + 57 # Total length of albums in minutes\n",
    "total_min\n",
    "\n"
   ]
  },
  {
   "cell_type": "code",
   "execution_count": 28,
   "id": "162266ff-7beb-46ce-8df4-96a7bc095581",
   "metadata": {},
   "outputs": [
    {
     "data": {
      "text/plain": [
       "2.3666666666666667"
      ]
     },
     "execution_count": 28,
     "metadata": {},
     "output_type": "execute_result"
    }
   ],
   "source": [
    "total_hours = (43 + 42 + 57) / 60  # Total hours in a single expression\n",
    "total_hours"
   ]
  },
  {
   "cell_type": "markdown",
   "id": "34b81989-63fb-4ed5-9bca-9ee762382f40",
   "metadata": {},
   "source": [
    "## Exercise: Expressions in Python"
   ]
  },
  {
   "cell_type": "markdown",
   "id": "20782b91-f72a-43e1-8f36-4f2541f06d73",
   "metadata": {},
   "source": [
    "Write an expression to add 30 and 20 and subtract 40"
   ]
  },
  {
   "cell_type": "code",
   "execution_count": 29,
   "id": "416a8a61-633b-47fa-b33d-699a9fd85784",
   "metadata": {},
   "outputs": [
    {
     "data": {
      "text/plain": [
       "10"
      ]
     },
     "execution_count": 29,
     "metadata": {},
     "output_type": "execute_result"
    }
   ],
   "source": [
    "30+20-40\n"
   ]
  },
  {
   "cell_type": "markdown",
   "id": "ac23fd42-0776-4629-9c30-0a96ebc56393",
   "metadata": {},
   "source": [
    "Write an expression to subtract 5 from 55 and divide the result by 10\n"
   ]
  },
  {
   "cell_type": "code",
   "execution_count": 31,
   "id": "14679a69-7597-499a-a257-ac13324bb583",
   "metadata": {},
   "outputs": [
    {
     "data": {
      "text/plain": [
       "5.0"
      ]
     },
     "execution_count": 31,
     "metadata": {},
     "output_type": "execute_result"
    }
   ],
   "source": [
    "(55-5)/10"
   ]
  },
  {
   "cell_type": "markdown",
   "id": "ab7ed6dd-7adc-4883-b615-bbc0edfd1f6c",
   "metadata": {},
   "source": [
    "Write an expression to multiply 6 with 10 and divide the result by 12\n"
   ]
  },
  {
   "cell_type": "code",
   "execution_count": 32,
   "id": "f0161d4b-ed4b-40c9-add4-272f49c24aa1",
   "metadata": {},
   "outputs": [
    {
     "data": {
      "text/plain": [
       "5.0"
      ]
     },
     "execution_count": 32,
     "metadata": {},
     "output_type": "execute_result"
    }
   ],
   "source": [
    "(6*10)/12"
   ]
  },
  {
   "cell_type": "markdown",
   "id": "a5e7af80-36d9-48ee-8579-3eff791703e6",
   "metadata": {},
   "source": [
    "### Exercise: Variables in Python\n"
   ]
  },
  {
   "cell_type": "markdown",
   "id": "1f2c963f-c06f-4318-9786-b6299a31afe4",
   "metadata": {},
   "source": [
    "What is the value of x where x = 3 + 2 * 2"
   ]
  },
  {
   "cell_type": "code",
   "execution_count": 33,
   "id": "2cecb2ba-561e-4a7a-934e-dfb66d46c80a",
   "metadata": {},
   "outputs": [
    {
     "data": {
      "text/plain": [
       "7"
      ]
     },
     "execution_count": 33,
     "metadata": {},
     "output_type": "execute_result"
    }
   ],
   "source": [
    "x=3+2+2\n",
    "x\n"
   ]
  },
  {
   "cell_type": "markdown",
   "id": "99e3cfed-81c5-416d-bd94-36900c27fd24",
   "metadata": {},
   "source": [
    "What is the value of y where y = (3 + 2) * 2?"
   ]
  },
  {
   "cell_type": "code",
   "execution_count": 36,
   "id": "7c393cfd-98f8-4d6a-8f35-25ab6ee7a555",
   "metadata": {},
   "outputs": [
    {
     "data": {
      "text/plain": [
       "10"
      ]
     },
     "execution_count": 36,
     "metadata": {},
     "output_type": "execute_result"
    }
   ],
   "source": [
    "y = (3 + 2) * 2\n",
    "y"
   ]
  },
  {
   "cell_type": "markdown",
   "id": "d1384018-2428-4033-a3ae-bda392cd6276",
   "metadata": {},
   "source": [
    "What is the value of z where z = x + y?"
   ]
  },
  {
   "cell_type": "code",
   "execution_count": 37,
   "id": "8854ac3a-f135-4de5-8987-7c5b7fdd1827",
   "metadata": {},
   "outputs": [
    {
     "data": {
      "text/plain": [
       "17"
      ]
     },
     "execution_count": 37,
     "metadata": {},
     "output_type": "execute_result"
    }
   ],
   "source": [
    " z = x + y\n",
    "z"
   ]
  },
  {
   "cell_type": "code",
   "execution_count": null,
   "id": "d05fee7a-22cd-42f8-a874-f1e6698dd181",
   "metadata": {},
   "outputs": [],
   "source": []
  }
 ],
 "metadata": {
  "kernelspec": {
   "display_name": "Python [conda env:base] *",
   "language": "python",
   "name": "conda-base-py"
  },
  "language_info": {
   "codemirror_mode": {
    "name": "ipython",
    "version": 3
   },
   "file_extension": ".py",
   "mimetype": "text/x-python",
   "name": "python",
   "nbconvert_exporter": "python",
   "pygments_lexer": "ipython3",
   "version": "3.12.7"
  }
 },
 "nbformat": 4,
 "nbformat_minor": 5
}
