{
 "cells": [
  {
   "cell_type": "markdown",
   "id": "0a2545bd-d685-4a74-9b5b-417a2a6750b9",
   "metadata": {},
   "source": [
    "### Basic python programming\n"
   ]
  },
  {
   "cell_type": "code",
   "execution_count": 3,
   "id": "d10ed5dc-4db2-4348-9bf7-c4e4a2d06722",
   "metadata": {},
   "outputs": [
    {
     "name": "stdout",
     "output_type": "stream",
     "text": [
      "hello world\n"
     ]
    }
   ],
   "source": [
    "print(\"hello world\")"
   ]
  },
  {
   "cell_type": "markdown",
   "id": "f035e481-f032-4b5c-bd4b-42777338cc93",
   "metadata": {},
   "source": [
    "### Ask the version of the python"
   ]
  },
  {
   "cell_type": "code",
   "execution_count": 5,
   "id": "747da717-08e6-4fb9-baf0-9f01bad38f71",
   "metadata": {},
   "outputs": [
    {
     "name": "stdout",
     "output_type": "stream",
     "text": [
      "3.12.7 | packaged by Anaconda, Inc. | (main, Oct  4 2024, 13:17:27) [MSC v.1929 64 bit (AMD64)]\n"
     ]
    }
   ],
   "source": [
    "import sys\n",
    "print(sys.version)"
   ]
  },
  {
   "cell_type": "code",
   "execution_count": 7,
   "id": "b82a5737-73e6-44bd-952a-7779387bab60",
   "metadata": {},
   "outputs": [
    {
     "name": "stdout",
     "output_type": "stream",
     "text": [
      "hello\n"
     ]
    }
   ],
   "source": [
    "print(\"hello\") # adding comment"
   ]
  },
  {
   "cell_type": "markdown",
   "id": "2a2bd104-8a9b-4351-a974-4e63f0ea1230",
   "metadata": {},
   "source": [
    "## Print string and error to see the running order\n"
   ]
  },
  {
   "cell_type": "code",
   "execution_count": 9,
   "id": "e3c6a648-f8c4-4588-860d-1d293776d33e",
   "metadata": {},
   "outputs": [
    {
     "name": "stdout",
     "output_type": "stream",
     "text": [
      "This will be printed\n"
     ]
    },
    {
     "ename": "NameError",
     "evalue": "name 'frint' is not defined",
     "output_type": "error",
     "traceback": [
      "\u001b[1;31m---------------------------------------------------------------------------\u001b[0m",
      "\u001b[1;31mNameError\u001b[0m                                 Traceback (most recent call last)",
      "Cell \u001b[1;32mIn[9], line 2\u001b[0m\n\u001b[0;32m      1\u001b[0m \u001b[38;5;28mprint\u001b[39m(\u001b[38;5;124m\"\u001b[39m\u001b[38;5;124mThis will be printed\u001b[39m\u001b[38;5;124m\"\u001b[39m)\n\u001b[1;32m----> 2\u001b[0m frint(\u001b[38;5;124m\"\u001b[39m\u001b[38;5;124mThis will cause an error\u001b[39m\u001b[38;5;124m\"\u001b[39m)\n\u001b[0;32m      3\u001b[0m \u001b[38;5;28mprint\u001b[39m(\u001b[38;5;124m\"\u001b[39m\u001b[38;5;124mThis will not be printed\u001b[39m\u001b[38;5;124m\"\u001b[39m)\n",
      "\u001b[1;31mNameError\u001b[0m: name 'frint' is not defined"
     ]
    }
   ],
   "source": [
    "print(\"This will be printed\")\n",
    "frint(\"This will cause an error\")\n",
    "print(\"This will not be printed\")"
   ]
  },
  {
   "cell_type": "markdown",
   "id": "9d84b0f1-a7f0-4476-8a17-7d5cd1e077af",
   "metadata": {},
   "source": [
    "## What is the value of z where z = 2 + 15?"
   ]
  },
  {
   "cell_type": "code",
   "execution_count": 17,
   "id": "41637737-8cb9-490e-8d5f-3d3e6af787cd",
   "metadata": {},
   "outputs": [
    {
     "data": {
      "text/plain": [
       "17"
      ]
     },
     "execution_count": 17,
     "metadata": {},
     "output_type": "execute_result"
    }
   ],
   "source": [
    "z=2+15\n",
    "\n",
    "z\n"
   ]
  },
  {
   "cell_type": "markdown",
   "id": "5e9c97bd-5244-4c90-a524-0d826dd1357e",
   "metadata": {},
   "source": [
    "\n",
    "## Author\n",
    "\n",
    "## Goutham"
   ]
  },
  {
   "cell_type": "code",
   "execution_count": null,
   "id": "4b218139-a2f1-498c-973a-7c2dbaba7765",
   "metadata": {},
   "outputs": [],
   "source": []
  },
  {
   "cell_type": "code",
   "execution_count": null,
   "id": "61a18d5b-52dc-4513-bb46-9db646ef3f0c",
   "metadata": {},
   "outputs": [],
   "source": []
  }
 ],
 "metadata": {
  "kernelspec": {
   "display_name": "Python [conda env:base] *",
   "language": "python",
   "name": "conda-base-py"
  },
  "language_info": {
   "codemirror_mode": {
    "name": "ipython",
    "version": 3
   },
   "file_extension": ".py",
   "mimetype": "text/x-python",
   "name": "python",
   "nbconvert_exporter": "python",
   "pygments_lexer": "ipython3",
   "version": "3.12.7"
  }
 },
 "nbformat": 4,
 "nbformat_minor": 5
}
